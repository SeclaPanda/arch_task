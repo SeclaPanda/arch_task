{
 "cells": [
  {
   "cell_type": "markdown",
   "metadata": {},
   "source": [
    "***Классификация пород кошек и собак по лицу***\n",
    "\n",
    "Для начала загрузим упрощенный датасет - [Oxford-IIIT Dataset](https://www.robots.ox.ac.uk/~vgg/data/pets/)"
   ]
  },
  {
   "cell_type": "code",
   "execution_count": 1,
   "metadata": {},
   "outputs": [],
   "source": [
    "#lib import\n",
    "from keras import utils\n",
    "from keras import layers\n",
    "from keras.models import Sequential\n",
    "from keras.metrics import SparseTopKCategoricalAccuracy\n",
    "import numpy as np\n",
    "import tensorflow as tf\n",
    "import matplotlib.pyplot as plt\n",
    "import pandas as pd\n",
    "import seaborn as sn\n",
    "import time\n",
    "from pathlib import Path"
   ]
  },
  {
   "cell_type": "code",
   "execution_count": 2,
   "metadata": {},
   "outputs": [
    {
     "name": "stdout",
     "output_type": "stream",
     "text": [
      "Downloading data from http://www.soshnikov.com/permanent/data/petfaces.tar.gz\n",
      "\u001b[1m24483412/24483412\u001b[0m \u001b[32m━━━━━━━━━━━━━━━━━━━━\u001b[0m\u001b[37m\u001b[0m \u001b[1m3s\u001b[0m 0us/step\n"
     ]
    }
   ],
   "source": [
    "#dataset loading\n",
    "url = 'http://www.soshnikov.com/permanent/data/petfaces.tar.gz'\n",
    "data = Path(utils.get_file('petfaces', origin=url, untar=True))"
   ]
  },
  {
   "cell_type": "code",
   "execution_count": 3,
   "metadata": {},
   "outputs": [
    {
     "name": "stdout",
     "output_type": "stream",
     "text": [
      "Found 3211 files belonging to 35 classes.\n",
      "Using 2569 files for training.\n",
      "Found 3211 files belonging to 35 classes.\n",
      "Using 642 files for validation.\n"
     ]
    }
   ],
   "source": [
    "#dividing to test and example \n",
    "img_size = 256, 256\n",
    "\n",
    "train_set = utils.image_dataset_from_directory (\n",
    "    data, \n",
    "    validation_split=0.2, \n",
    "    subset='training',\n",
    "    seed=3000,\n",
    "    image_size=img_size,\n",
    "    batch_size=32)\n",
    "\n",
    "test_set = utils.image_dataset_from_directory (\n",
    "    data, \n",
    "    validation_split=0.2, \n",
    "    subset='validation',\n",
    "    seed=3000, \n",
    "    image_size=img_size,\n",
    "    batch_size=32)"
   ]
  },
  {
   "cell_type": "markdown",
   "metadata": {},
   "source": [
    "Далее разделим полученный датасет на классы: кошки и собаки (cats/dogs)"
   ]
  },
  {
   "cell_type": "code",
   "execution_count": 4,
   "metadata": {},
   "outputs": [],
   "source": [
    "class_names = train_set.class_names\n",
    "\n",
    "class_cats = []\n",
    "class_dogs = []\n",
    "\n",
    "for _ in range(len(class_names)):\n",
    "    if class_names[_].startswith('cat'):\n",
    "        class_cats.append(_)\n",
    "    if class_names[_].startswith('dog'):\n",
    "        class_dogs.append(_)\n",
    "\n",
    "train_set = train_set.cache().shuffle(3000 // 2).prefetch(buffer_size=tf.data.AUTOTUNE)\n",
    "test_set = test_set.cache().prefetch(buffer_size=tf.data.AUTOTUNE)"
   ]
  },
  {
   "cell_type": "code",
   "execution_count": null,
   "metadata": {},
   "outputs": [],
   "source": []
  }
 ],
 "metadata": {
  "kernelspec": {
   "display_name": "Python 3",
   "language": "python",
   "name": "python3"
  },
  "language_info": {
   "codemirror_mode": {
    "name": "ipython",
    "version": 3
   },
   "file_extension": ".py",
   "mimetype": "text/x-python",
   "name": "python",
   "nbconvert_exporter": "python",
   "pygments_lexer": "ipython3",
   "version": "3.12.1"
  }
 },
 "nbformat": 4,
 "nbformat_minor": 2
}
